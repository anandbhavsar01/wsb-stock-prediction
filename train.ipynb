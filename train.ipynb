{
 "cells": [
  {
   "cell_type": "code",
   "execution_count": 7,
   "id": "07dd3e30-9222-4d23-8288-47a5b0d5d64b",
   "metadata": {},
   "outputs": [],
   "source": [
    "import pandas as pd\n",
    "import nltk\n"
   ]
  },
  {
   "cell_type": "code",
   "execution_count": 8,
   "id": "7901c0cc-232e-4849-9688-e2db9cccfabf",
   "metadata": {},
   "outputs": [
    {
     "name": "stdout",
     "output_type": "stream",
     "text": [
      "       Unnamed: 0                                              title  score  \\\n",
      "0               0  It's not about the money, it's about sending a...     55   \n",
      "1               1  Math Professor Scott Steiner says the numbers ...    110   \n",
      "2               2                                    Exit the system      0   \n",
      "3               3  NEW SEC FILING FOR GME! CAN SOMEONE LESS RETAR...     29   \n",
      "4               4  Not to distract from GME, just thought our AMC...     71   \n",
      "...           ...                                                ...    ...   \n",
      "53182       53182    What I Learned Investigating SAVA FUD Spreaders    238   \n",
      "53183       53183  Daily Popular Tickers Thread for August 02, 20...    228   \n",
      "53184       53184       Hitler reacts to the market being irrational   7398   \n",
      "53185       53185        Daily Discussion Thread for August 02, 2021    338   \n",
      "53186       53186  Fraternal Association of Gambling Gentlemen an...     40   \n",
      "\n",
      "           id                                                url  comms_num  \\\n",
      "0      l6ulcx                    https://v.redd.it/6j75regs72e61          6   \n",
      "1      l6uibd                    https://v.redd.it/ah50lyny62e61         23   \n",
      "2      l6uhhn  https://www.reddit.com/r/wallstreetbets/commen...         47   \n",
      "3      l6ugk6  https://sec.report/Document/0001193125-21-019848/         74   \n",
      "4      l6ufgy                https://i.redd.it/4h2sukb662e61.jpg        156   \n",
      "...       ...                                                ...        ...   \n",
      "53182  owd2pn  https://www.reddit.com/r/wallstreetbets/commen...         87   \n",
      "53183  owd1a5  https://www.reddit.com/r/wallstreetbets/commen...       1070   \n",
      "53184  owc5dr                    https://v.redd.it/46jxu074exe71        372   \n",
      "53185  owbfjf  https://www.reddit.com/r/wallstreetbets/commen...      11688   \n",
      "53186  owaqd6  https://www.reddit.com/r/wallstreetbets/commen...        810   \n",
      "\n",
      "            created                                               body  \\\n",
      "0      1.611863e+09                                                NaN   \n",
      "1      1.611862e+09                                                NaN   \n",
      "2      1.611862e+09  The CEO of NASDAQ pushed to halt trading “to g...   \n",
      "3      1.611862e+09                                                NaN   \n",
      "4      1.611862e+09                                                NaN   \n",
      "...             ...                                                ...   \n",
      "53182  1.627906e+09  ***TLDR: Three bitter scientists partnered up ...   \n",
      "53183  1.627906e+09  \\nYour daily hype thread. Please keep the shit...   \n",
      "53184  1.627902e+09                                                NaN   \n",
      "53185  1.627898e+09  Your daily trading discussion thread. Please k...   \n",
      "53186  1.627895e+09  This is an old Yacht Club thread. Click /u/Vis...   \n",
      "\n",
      "                 timestamp  index    neg    neu    pos  compound     label  \n",
      "0      2021-01-28 21:37:41      0  0.000  1.000  0.000    0.0000   Neutral  \n",
      "1      2021-01-28 21:32:10      1  0.305  0.695  0.000   -0.7034  Negative  \n",
      "2      2021-01-28 21:30:35      2  0.000  1.000  0.000    0.0000   Neutral  \n",
      "3      2021-01-28 21:28:57      3  0.231  0.625  0.144   -0.3397  Negative  \n",
      "4      2021-01-28 21:26:56      4  0.000  0.881  0.119    0.2235  Positive  \n",
      "...                    ...    ...    ...    ...    ...       ...       ...  \n",
      "53182  2021-08-02 15:03:27  53182  0.321  0.679  0.000   -0.4278  Negative  \n",
      "53183  2021-08-02 15:01:03  53183  0.000  0.823  0.177    0.4215  Positive  \n",
      "53184  2021-08-02 13:59:35  53184  0.286  0.714  0.000   -0.3400  Negative  \n",
      "53185  2021-08-02 13:00:16  53185  0.000  1.000  0.000    0.0000   Neutral  \n",
      "53186  2021-08-02 12:00:14  53186  0.000  1.000  0.000    0.0000   Neutral  \n",
      "\n",
      "[53187 rows x 15 columns]\n"
     ]
    }
   ],
   "source": [
    "file = pd.read_csv('dataset/text_and_label.csv')\n",
    "print(file)"
   ]
  },
  {
   "cell_type": "code",
   "execution_count": 9,
   "id": "9df08b7a-c7ec-4fcb-914d-c7778b9e31fa",
   "metadata": {},
   "outputs": [],
   "source": [
    "data_and_labels = pd.concat([file['title'], file['label']], axis=1)"
   ]
  },
  {
   "cell_type": "code",
   "execution_count": 30,
   "id": "20bdbe19-f5c8-4d5f-8d2c-22245248d03b",
   "metadata": {},
   "outputs": [
    {
     "name": "stdout",
     "output_type": "stream",
     "text": [
      "[({'title': \"It's not about the money, it's about sending a message. 🚀💎🙌\"}, 'Neutral')\n",
      " ({'title': 'Math Professor Scott Steiner says the numbers spell DISASTER for Gamestop shorts'}, 'Negative')\n",
      " ({'title': 'Exit the system'}, 'Neutral') ...\n",
      " ({'title': 'Daily Popular Tickers Thread for August 02, 2021 - BABA | GME | AMD'}, 'Positive')\n",
      " ({'title': 'Hitler reacts to the market being irrational'}, 'Negative')\n",
      " ({'title': 'Fraternal Association of Gambling Gentlemen and Yacht Degenerates for August 02, 2021'}, 'Neutral')]\n"
     ]
    }
   ],
   "source": [
    "import numpy as np\n",
    "\n",
    "msk = np.random.rand(len(data_and_labels)) < 0.8\n",
    "train = data_and_labels[msk].to_records(index=False)\n",
    "for i in range(0,len(train)):\n",
    "    train[i] = (dict(title=train[i][0]), train[i][1])\n",
    "test = data_and_labels[~msk].to_records(index=False)\n",
    "for i in range(0,len(test)):\n",
    "    test[i] = (dict(title=test[i][0]), test[i][1])\n",
    "print(train)\n"
   ]
  },
  {
   "cell_type": "code",
   "execution_count": 29,
   "id": "b936d3fc-aede-43eb-aafb-978a86bf62cb",
   "metadata": {},
   "outputs": [],
   "source": [
    "train = [\n",
    "     (dict(a=1,b=1,c=1), 'y'),\n",
    "     (dict(a=1,b=1,c=1), 'x'),\n",
    "     (dict(a=1,b=1,c=0), 'y'),\n",
    "     (dict(a=0,b=1,c=1), 'x'),\n",
    "     (dict(a=0,b=1,c=1), 'y'),\n",
    "     (dict(a=0,b=0,c=1), 'y'),\n",
    "     (dict(a=0,b=1,c=0), 'x'),\n",
    "     (dict(a=0,b=0,c=0), 'x'),\n",
    "     (dict(a=0,b=1,c=1), 'y'),\n",
    "     (dict(a=None,b=1,c=0), 'x'),\n",
    "     ]\n",
    "test = [\n",
    "     (dict(a=1,b=0,c=1)), # unseen\n",
    "     (dict(a=1,b=0,c=0)), # unseen\n",
    "     (dict(a=0,b=1,c=1)), # seen 3 times, labels=y,y,x\n",
    "     (dict(a=0,b=1,c=0)), # seen 1 time, label=x\n",
    "     ]"
   ]
  },
  {
   "cell_type": "code",
   "execution_count": null,
   "id": "600a47b4-36da-48df-aa2e-79e70fb1d543",
   "metadata": {},
   "outputs": [],
   "source": [
    "classifier = nltk.classify.DecisionTreeClassifier.train(train[:-1], entropy_cutoff=0, support_cutoff=0)\n",
    "sorted(classifier.labels())\n",
    "print(classifier)\n",
    "\n",
    "classifier.classify_many(test)"
   ]
  },
  {
   "cell_type": "code",
   "execution_count": null,
   "id": "1002524d-ba58-4697-bc8e-5162f8b36646",
   "metadata": {},
   "outputs": [],
   "source": []
  }
 ],
 "metadata": {
  "kernelspec": {
   "display_name": "Python 3 (ipykernel)",
   "language": "python",
   "name": "python3"
  },
  "language_info": {
   "codemirror_mode": {
    "name": "ipython",
    "version": 3
   },
   "file_extension": ".py",
   "mimetype": "text/x-python",
   "name": "python",
   "nbconvert_exporter": "python",
   "pygments_lexer": "ipython3",
   "version": "3.8.10"
  }
 },
 "nbformat": 4,
 "nbformat_minor": 5
}
