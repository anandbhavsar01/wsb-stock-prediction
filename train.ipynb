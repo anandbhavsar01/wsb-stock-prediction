{
 "cells": [
  {
   "cell_type": "code",
   "execution_count": 1,
   "id": "07dd3e30-9222-4d23-8288-47a5b0d5d64b",
   "metadata": {},
   "outputs": [],
   "source": [
    "import nltk\n",
    "from nltk.sentiment import SentimentAnalyzer\n",
    "from nltk.sentiment.util import *\n",
    "import pandas as pd"
   ]
  },
  {
   "cell_type": "code",
   "execution_count": null,
   "id": "7901c0cc-232e-4849-9688-e2db9cccfabf",
   "metadata": {},
   "outputs": [],
   "source": [
    "from ipynb.fs.full.preprocessing import * \n",
    "from ipynb.fs.full.WordProcessing import * "
   ]
  },
  {
   "cell_type": "code",
   "execution_count": null,
   "id": "9df08b7a-c7ec-4fcb-914d-c7778b9e31fa",
   "metadata": {},
   "outputs": [],
   "source": [
    "data = pd.read_csv(f_in)"
   ]
  },
  {
   "cell_type": "code",
   "execution_count": null,
   "id": "20bdbe19-f5c8-4d5f-8d2c-22245248d03b",
   "metadata": {},
   "outputs": [],
   "source": [
    "analyzer = SentimentAnalyzer()"
   ]
  },
  {
   "cell_type": "code",
   "execution_count": null,
   "id": "600a47b4-36da-48df-aa2e-79e70fb1d543",
   "metadata": {},
   "outputs": [],
   "source": [
    "analyzer.save_file(analyzer, 'sentiment_analyzer')"
   ]
  }
 ],
 "metadata": {
  "kernelspec": {
   "display_name": "Python 3 (ipykernel)",
   "language": "python",
   "name": "python3"
  },
  "language_info": {
   "codemirror_mode": {
    "name": "ipython",
    "version": 3
   },
   "file_extension": ".py",
   "mimetype": "text/x-python",
   "name": "python",
   "nbconvert_exporter": "python",
   "pygments_lexer": "ipython3",
   "version": "3.8.10"
  }
 },
 "nbformat": 4,
 "nbformat_minor": 5
}
