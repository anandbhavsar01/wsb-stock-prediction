{
 "cells": [
  {
   "cell_type": "code",
   "execution_count": null,
   "metadata": {
    "collapsed": true
   },
   "outputs": [],
   "source": [
    "from ipynb.fs.full.preprocessing import preprocess\n",
    "from ipynb.fs.full.WordProcessing import get_words\n",
    "import numpy as np\n",
    "import matplotlib.pyplot as plt\n",
    "import collections\n",
    "%matplotlib inline"
   ]
  },
  {
   "cell_type": "code",
   "execution_count": 32,
   "metadata": {
    "collapsed": false
   },
   "outputs": [
    {
     "name": "stdout",
     "output_type": "stream",
     "text": [
      "[preprocess::extract emojis]\n",
      "[preprocess::extract titles and body]\n",
      "[preprocess::complete]\n"
     ]
    }
   ],
   "source": [
    "#########################\n",
    "##### get WSB DATA #####\n",
    "dict_emojis, dict_titles, dict_body = preprocess('dataset/reddit_wsb.csv')"
   ]
  },
  {
   "cell_type": "code",
   "execution_count": 28,
   "metadata": {
    "collapsed": false
   },
   "outputs": [
    {
     "name": "stdout",
     "output_type": "stream",
     "text": [
      "go give rh a 1 star rating on the app store\n"
     ]
    }
   ],
   "source": [
    "sentences = list(dict_titles.values())\n",
    "#print(sentences)\n",
    "sentences = sentences[100:420]\n",
    "print(sentences[50])\n",
    "# make fake labels for now \n",
    "labels = [1 for ss in sentences]"
   ]
  },
  {
   "cell_type": "code",
   "execution_count": 42,
   "metadata": {
    "collapsed": false
   },
   "outputs": [],
   "source": [
    "# check number of times the word buy sell or hold are mentioned then assign label based on that\n",
    "label_markers = [\"buy\",\"sell\",\"hold\"]\n",
    "ii = 0\n",
    "dict_labels = collections.OrderedDict()\n",
    "for kk, post in dict_titles.items():\n",
    "    #print(ii)\n",
    "    l_post=get_words(post)\n",
    "    label_tracker={\"sell\":0, \"hold\":0, \"buy\":0}\n",
    "    for label in label_markers:\n",
    "        label_counter=l_post.count(label)\n",
    "        if label in label_tracker:\n",
    "            label_tracker[label]=label_counter\n",
    "        #if label_counter>0: \n",
    "            #print(\"label {0} appeared {1}\".format(label,label_counter))\n",
    "            #print(post)\n",
    "    #print(label_tracker)\n",
    "    max_key = max(label_tracker, key=label_tracker.get)\n",
    "    if label_tracker[max_key] == 0:\n",
    "        #print(\"No specific mention to buy,hold,or sell --> setting to hold\")\n",
    "        max_key = \"hold\"\n",
    "    #print(max_key)\n",
    "    dict_labels[ii]=max_key\n",
    "    #if ii==400:\n",
    "    #    break    \n",
    "    ii+=1"
   ]
  },
  {
   "cell_type": "code",
   "execution_count": 46,
   "metadata": {
    "collapsed": false
   },
   "outputs": [
    {
     "data": {
      "text/plain": [
       "Counter({'hold': 22943, 'sell': 443, 'buy': 1352})"
      ]
     },
     "execution_count": 46,
     "metadata": {},
     "output_type": "execute_result"
    }
   ],
   "source": [
    "from collections import Counter\n",
    "Counter(dict_labels.values())\n"
   ]
  },
  {
   "cell_type": "code",
   "execution_count": null,
   "metadata": {
    "collapsed": true
   },
   "outputs": [],
   "source": []
  }
 ],
 "metadata": {
  "kernelspec": {
   "display_name": "Python 3",
   "language": "python",
   "name": "python3"
  },
  "language_info": {
   "codemirror_mode": {
    "name": "ipython",
    "version": 3
   },
   "file_extension": ".py",
   "mimetype": "text/x-python",
   "name": "python",
   "nbconvert_exporter": "python",
   "pygments_lexer": "ipython3",
   "version": "3.7.2"
  }
 },
 "nbformat": 4,
 "nbformat_minor": 2
}
