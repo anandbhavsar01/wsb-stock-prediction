{
 "cells": [
  {
   "cell_type": "code",
   "execution_count": 1,
   "metadata": {
    "collapsed": true
   },
   "outputs": [],
   "source": [
    "import os\n",
    "import pandas as pd\n",
    "import numpy as np\n",
    "import itertools\n",
    "from matplotlib import pyplot as plt\n",
    "from datetime import datetime\n",
    "import sys\n",
    "sys.path.append(\"/Library/Frameworks/Python.framework/Versions/3.7/lib/python3.7/site-packages\")\n",
    "\n",
    "%matplotlib inline"
   ]
  },
  {
   "cell_type": "code",
   "execution_count": 2,
   "metadata": {
    "collapsed": true
   },
   "outputs": [],
   "source": [
    "open2open_ret = pd.read_csv(\"./dataset/open2open_ret.csv\")"
   ]
  },
  {
   "cell_type": "code",
   "execution_count": 7,
   "metadata": {
    "collapsed": false
   },
   "outputs": [],
   "source": [
    "df_sentiment = pd.read_csv(\"./dataset/sentiment_by_ticker_filleddown.csv\")#.set_index(\"timestamp\")"
   ]
  },
  {
   "cell_type": "code",
   "execution_count": 4,
   "metadata": {
    "collapsed": false
   },
   "outputs": [
    {
     "name": "stdout",
     "output_type": "stream",
     "text": [
      "   Unnamed: 0                                              title  score  \\\n",
      "0           0  It's not about the money, it's about sending a...      0   \n",
      "1           1  Math Professor Scott Steiner says the numbers ...     -1   \n",
      "2           2                                    Exit the system      0   \n",
      "3           3  NEW SEC FILING FOR GME! CAN SOMEONE LESS RETAR...     -1   \n",
      "4           4  Not to distract from GME, just thought our AMC...      1   \n",
      "\n",
      "       id                                                url  comms_num  \\\n",
      "0  l6ulcx                    https://v.redd.it/6j75regs72e61          6   \n",
      "1  l6uibd                    https://v.redd.it/ah50lyny62e61         23   \n",
      "2  l6uhhn  https://www.reddit.com/r/wallstreetbets/commen...         47   \n",
      "3  l6ugk6  https://sec.report/Document/0001193125-21-019848/         74   \n",
      "4  l6ufgy                https://i.redd.it/4h2sukb662e61.jpg        156   \n",
      "\n",
      "        created                                               body  \\\n",
      "0  1.611863e+09                                                NaN   \n",
      "1  1.611862e+09                                                NaN   \n",
      "2  1.611862e+09  The CEO of NASDAQ pushed to halt trading “to g...   \n",
      "3  1.611862e+09                                                NaN   \n",
      "4  1.611862e+09                                                NaN   \n",
      "\n",
      "             timestamp  index    neg    neu    pos  compound     label  \n",
      "0  2021-01-28 21:37:41      0  0.000  1.000  0.000    0.0000   Neutral  \n",
      "1  2021-01-28 21:32:10      1  0.305  0.695  0.000   -0.7034  Negative  \n",
      "2  2021-01-28 21:30:35      2  0.000  1.000  0.000    0.0000   Neutral  \n",
      "3  2021-01-28 21:28:57      3  0.231  0.625  0.144   -0.3397  Negative  \n",
      "4  2021-01-28 21:26:56      4  0.000  0.881  0.119    0.2235  Positive  \n"
     ]
    }
   ],
   "source": []
  },
  {
   "cell_type": "code",
   "execution_count": null,
   "metadata": {
    "collapsed": true
   },
   "outputs": [],
   "source": []
  }
 ],
 "metadata": {
  "kernelspec": {
   "display_name": "Python 3",
   "language": "python",
   "name": "python3"
  },
  "language_info": {
   "codemirror_mode": {
    "name": "ipython",
    "version": 3
   },
   "file_extension": ".py",
   "mimetype": "text/x-python",
   "name": "python",
   "nbconvert_exporter": "python",
   "pygments_lexer": "ipython3",
   "version": "3.7.2"
  }
 },
 "nbformat": 4,
 "nbformat_minor": 2
}
