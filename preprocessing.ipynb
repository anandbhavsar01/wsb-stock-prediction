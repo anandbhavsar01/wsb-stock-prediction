{
 "cells": [
  {
   "cell_type": "code",
   "execution_count": 3,
   "id": "5310b771",
   "metadata": {
    "collapsed": false,
    "jupyter": {
     "outputs_hidden": false
    }
   },
   "outputs": [],
   "source": [
    "# Import statements go here\n",
    "import numpy as np\n",
    "import emoji\n",
    "import regex\n",
    "import pandas as pd\n",
    "\n",
    "from ipynb.fs.full.WordProcessing import get_processed_data, convert_to_dict\n"
   ]
  },
  {
   "cell_type": "code",
   "execution_count": 15,
   "id": "b2899957",
   "metadata": {
    "collapsed": true,
    "jupyter": {
     "outputs_hidden": true
    }
   },
   "outputs": [],
   "source": [
    "# Preprocessing functions go here\n",
    "\n",
    "def extract_emojis(input_file):\n",
    "    emoji_list = []\n",
    "    emoji_mat = {}\n",
    "    posts = input_file.readlines()\n",
    "    for line in posts:\n",
    "        post = line[0]\n",
    "        data = regex.findall(r'\\X', post)\n",
    "        for word in data:\n",
    "            if any(char in emoji.EMOJI_DATA for char in word):\n",
    "                if word not in emoji_list:\n",
    "                    emoji_list.append(word)\n",
    "    \n",
    "    for key in emoji_list:\n",
    "        emoji_mat[key] = np.zeros(len(posts)-1)\n",
    "\n",
    "    i = 0\n",
    "    for line in posts:\n",
    "        post = line[0]\n",
    "        data = regex.findall(r'\\X', post)\n",
    "        for word in data:\n",
    "            for char in word:\n",
    "                if emoji_mat.get(char) is not None:\n",
    "                    emoji_mat[char][i] += 1\n",
    "        i += 1\n",
    "    return emoji_mat\n"
   ]
  },
  {
   "cell_type": "code",
   "execution_count": 28,
   "id": "6cc599aa-4d0c-486e-bb23-c297cfd4bf58",
   "metadata": {
    "collapsed": false,
    "jupyter": {
     "outputs_hidden": false
    },
    "scrolled": true,
    "tags": []
   },
   "outputs": [],
   "source": [
    "# Run preprocessing code\n",
    "def preprocess():\n",
    "    f = open('dataset/reddit_wsb.csv', \"r\")\n",
    "    emoji_mat = extract_emojis(f)\n",
    "    for emoji_val in mat.keys():\n",
    "        print(emoji_val, np.sum(mat[emoji_val]))\n",
    "    return emoji_mat"
   ]
  },
  {
   "cell_type": "code",
   "execution_count": null,
   "id": "d3b667e4-64ef-40c5-9850-1d679cda0d8d",
   "metadata": {},
   "outputs": [
    {
     "name": "stdout",
     "output_type": "stream",
     "text": [
      "[preprocess::extract emojis]\n",
      "[preprocess::extract titles and body]\n",
      "[preprocess::complete]\n"
     ]
    }
   ],
   "source": [
    "# Run preprocessing code\n",
    "def preprocess(f_in):\n",
    "    print(\"[preprocess::extract emojis]\")\n",
    "    f = open(f_in, \"r\")\n",
    "    my_dict_emoji = extract_emojis(f)\n",
    "\n",
    "    # open and process\n",
    "    print(\"[preprocess::extract titles and body]\")\n",
    "    data = pd.read_csv(f_in)\n",
    "    processed=get_processed_data(data)\n",
    "    my_dict_titles = convert_to_dict(processed,\"title\")\n",
    "    my_dict_body = convert_to_dict(processed,\"body\")\n",
    "    print(\"[preprocess::complete]\")\n",
    "    return my_dict_emoji, my_dict_titles, my_dict_body\n",
    "    \n",
    "#dict_emojis, dict_titles, dict_body = preprocess('dataset/reddit_wsb.csv')"
   ]
  },
  {
   "cell_type": "code",
   "execution_count": 27,
   "id": "cfc5a604",
   "metadata": {
    "collapsed": false,
    "jupyter": {
     "outputs_hidden": false
    }
   },
   "outputs": [],
   "source": [
    "# sanity check\n",
    "#dict_titles[2345]\n",
    "#dict_body[2345]\n",
    "#for emoji_val in dict_emojis.keys():\n",
    "#        print(emoji_val, np.sum(dict_emojis[emoji_val]))"
   ]
  },
  {
   "cell_type": "code",
   "execution_count": 54,
   "id": "1bb54f0a",
   "metadata": {
    "tags": []
   },
   "outputs": [],
   "source": [
    "import yfinance as yf\n",
    "\n",
    "def get_ticker_data(f_in, tickers_found):\n",
    "    file = pd.read_csv(f_in)\n",
    "    tickers_file = pd.read_csv(tickers_found)\n",
    "    tickers_set = set()\n",
    "    for i, row in tickers_file.iterrows():\n",
    "        #print(row)\n",
    "        if not pd.isnull(row['Ticker']):\n",
    "            row_ticker_list = row['Ticker'].replace('{','').replace('}','').replace('\\'', '').split(',')\n",
    "            #print(row_ticker_list)\n",
    "            for ticker in row_ticker_list:\n",
    "                tickers_set.add(ticker)\n",
    "            \n",
    "    #print(tickers_set)\n",
    "    \n",
    "    data_tickers = pd.concat([file, tickers_file['Ticker']], axis=1)\n",
    "    condensed_file = data_tickers.dropna(subset=['Ticker'])\n",
    "    sorted_file = condensed_file.sort_values(['timestamp'],ascending=True)\n",
    "    start_date = sorted_file.iloc[0]['timestamp'].split()[0]\n",
    "    end_date = sorted_file.iloc[-1]['timestamp'].split()[0]\n",
    "    #print(start_date,end_date)\n",
    "    \n",
    "    ticker_str = ' '.join(tickers_set)\n",
    "    #all_tickers = yf.Tickers(ticker_str)\n",
    "    data = yf.download(ticker_str, start=start_date, end=end_date, group_by = 'ticker', auto_adjust=True, prepost=True)\n",
    "    return data, tickers_set\n",
    "    \n",
    "    "
   ]
  },
  {
   "cell_type": "code",
   "execution_count": 55,
   "id": "b72f4984-3c56-4209-9b81-6f9df2c75035",
   "metadata": {},
   "outputs": [
    {
     "name": "stdout",
     "output_type": "stream",
     "text": [
      "[*********************100%***********************]  25 of 25 completed\n"
     ]
    }
   ],
   "source": [
    "data, ticker_set = get_ticker_data('dataset/reddit_wsb.csv','dataset/ticker_location.csv')"
   ]
  },
  {
   "cell_type": "code",
   "execution_count": 58,
   "id": "9f85a8ce-d82f-41f1-857f-64f5eb2387cd",
   "metadata": {},
   "outputs": [
    {
     "name": "stdout",
     "output_type": "stream",
     "text": [
      "Date\n",
      "2021-01-28    71.399994\n",
      "2021-01-29    54.709991\n",
      "2021-02-01    91.559998\n",
      "2021-02-02    50.759995\n",
      "2021-02-03    19.599998\n",
      "                ...    \n",
      "2021-08-09    -9.330002\n",
      "2021-08-10     2.309998\n",
      "2021-08-11    -0.350006\n",
      "2021-08-12    -2.470001\n",
      "2021-08-13    -2.050003\n",
      "Length: 138, dtype: float64\n",
      "                  Open        High         Low       Close    Volume\n",
      "Date                                                                \n",
      "2021-01-28  265.000000  483.000000  112.250000  193.600006  58815800\n",
      "2021-01-29  379.709991  413.980011  250.000000  325.000000  50566100\n",
      "2021-02-01  316.559998  322.000000  212.000000  225.000000  37382200\n",
      "2021-02-02  140.759995  158.000000   74.220001   90.000000  78183100\n",
      "2021-02-03  112.010002  113.400002   85.250000   92.410004  42698500\n",
      "...                ...         ...         ...         ...       ...\n",
      "2021-08-09  151.800003  164.710007  150.660004  161.130005   2249200\n",
      "2021-08-10  161.360001  166.899994  155.350006  159.050003   1623300\n",
      "2021-08-11  158.429993  159.050003  154.619995  158.779999    945400\n",
      "2021-08-12  159.880005  164.279999  157.330002  162.350006   1317800\n",
      "2021-08-13  160.470001  163.550003  157.410004  162.520004   1014800\n",
      "\n",
      "[138 rows x 5 columns]\n",
      "265.0\n",
      "379.7099914550781\n",
      "316.55999755859375\n",
      "140.75999450683594\n",
      "112.01000213623047\n",
      "91.19000244140625\n",
      "54.040000915527344\n",
      "72.41000366210938\n",
      "56.61000061035156\n",
      "50.77000045776367\n",
      "50.0099983215332\n",
      "50.75\n",
      "52.65999984741211\n",
      "49.77000045776367\n",
      "48.4900016784668\n",
      "41.279998779296875\n",
      "46.689998626708984\n",
      "44.970001220703125\n",
      "44.70000076293945\n",
      "169.55999755859375\n",
      "117.45999908447266\n",
      "104.54000091552734\n",
      "116.93000030517578\n",
      "122.51000213623047\n",
      "125.0\n",
      "128.1699981689453\n",
      "154.88999938964844\n",
      "217.7100067138672\n",
      "269.42999267578125\n",
      "241.63999938964844\n",
      "275.0\n",
      "277.5199890136719\n",
      "203.16000366210938\n",
      "217.83999633789062\n",
      "214.0\n",
      "195.72999572753906\n",
      "205.25999450683594\n",
      "197.5\n",
      "157.97999572753906\n",
      "123.48999786376953\n",
      "197.67999267578125\n",
      "180.75\n",
      "187.5\n",
      "197.5\n",
      "193.36000061035156\n",
      "171.0\n",
      "185.2100067138672\n",
      "183.22000122070312\n",
      "185.8800048828125\n",
      "169.6999969482422\n",
      "158.11000061035156\n",
      "141.8800048828125\n",
      "143.57000732421875\n",
      "163.0\n",
      "156.0\n",
      "171.8000030517578\n",
      "164.13999938964844\n",
      "158.39999389648438\n",
      "159.10000610351562\n",
      "149.0\n",
      "150.97999572753906\n",
      "183.5500030517578\n",
      "172.10000610351562\n",
      "176.55999755859375\n",
      "175.0\n",
      "177.49000549316406\n",
      "159.0\n",
      "161.8300018310547\n",
      "160.86000061035156\n",
      "160.11000061035156\n",
      "161.30999755859375\n",
      "137.0\n",
      "145.6999969482422\n",
      "147.44000244140625\n",
      "160.0\n",
      "159.85000610351562\n",
      "174.5399932861328\n",
      "171.99000549316406\n",
      "170.7899932861328\n",
      "171.0\n",
      "175.85000610351562\n",
      "181.0\n",
      "229.0\n",
      "229.8000030517578\n",
      "262.9700012207031\n",
      "233.47999572753906\n",
      "248.8800048828125\n",
      "265.7099914550781\n",
      "256.0199890136719\n",
      "258.0\n",
      "292.0\n",
      "303.1199951171875\n",
      "282.0\n",
      "222.35000610351562\n",
      "236.5\n",
      "226.36000061035156\n",
      "215.24000549316406\n",
      "224.0\n",
      "220.17999267578125\n",
      "216.9499969482422\n",
      "217.72999572753906\n",
      "221.4499969482422\n",
      "221.16000366210938\n",
      "214.0\n",
      "211.25\n",
      "213.58999633789062\n",
      "209.69000244140625\n",
      "213.39999389648438\n",
      "204.8000030517578\n",
      "204.0\n",
      "196.0\n",
      "179.8300018310547\n",
      "190.8800048828125\n",
      "191.4199981689453\n",
      "187.67999267578125\n",
      "180.49000549316406\n",
      "160.0\n",
      "170.14999389648438\n",
      "163.3000030517578\n",
      "173.89999389648438\n",
      "187.7899932861328\n",
      "185.3000030517578\n",
      "181.0\n",
      "180.36000061035156\n",
      "183.0\n",
      "175.72000122070312\n",
      "170.60000610351562\n",
      "165.0\n",
      "162.0\n",
      "156.74000549316406\n",
      "152.72999572753906\n",
      "148.0\n",
      "154.58999633789062\n",
      "151.8000030517578\n",
      "161.36000061035156\n",
      "158.42999267578125\n",
      "159.8800048828125\n",
      "160.47000122070312\n"
     ]
    },
    {
     "ename": "KeyError",
     "evalue": "'2021-01-28'",
     "output_type": "error",
     "traceback": [
      "\u001b[0;31m---------------------------------------------------------------------------\u001b[0m",
      "\u001b[0;31mKeyError\u001b[0m                                  Traceback (most recent call last)",
      "File \u001b[0;32m/mnt/c/Users/anand/Documents/CS229/project/wsb-stock-prediction/env/lib/python3.8/site-packages/pandas/core/indexes/base.py:3621\u001b[0m, in \u001b[0;36mIndex.get_loc\u001b[0;34m(self, key, method, tolerance)\u001b[0m\n\u001b[1;32m   3620\u001b[0m \u001b[38;5;28;01mtry\u001b[39;00m:\n\u001b[0;32m-> 3621\u001b[0m     \u001b[38;5;28;01mreturn\u001b[39;00m \u001b[38;5;28;43mself\u001b[39;49m\u001b[38;5;241;43m.\u001b[39;49m\u001b[43m_engine\u001b[49m\u001b[38;5;241;43m.\u001b[39;49m\u001b[43mget_loc\u001b[49m\u001b[43m(\u001b[49m\u001b[43mcasted_key\u001b[49m\u001b[43m)\u001b[49m\n\u001b[1;32m   3622\u001b[0m \u001b[38;5;28;01mexcept\u001b[39;00m \u001b[38;5;167;01mKeyError\u001b[39;00m \u001b[38;5;28;01mas\u001b[39;00m err:\n",
      "File \u001b[0;32m/mnt/c/Users/anand/Documents/CS229/project/wsb-stock-prediction/env/lib/python3.8/site-packages/pandas/_libs/index.pyx:136\u001b[0m, in \u001b[0;36mpandas._libs.index.IndexEngine.get_loc\u001b[0;34m()\u001b[0m\n",
      "File \u001b[0;32m/mnt/c/Users/anand/Documents/CS229/project/wsb-stock-prediction/env/lib/python3.8/site-packages/pandas/_libs/index.pyx:163\u001b[0m, in \u001b[0;36mpandas._libs.index.IndexEngine.get_loc\u001b[0;34m()\u001b[0m\n",
      "File \u001b[0;32mpandas/_libs/hashtable_class_helper.pxi:5198\u001b[0m, in \u001b[0;36mpandas._libs.hashtable.PyObjectHashTable.get_item\u001b[0;34m()\u001b[0m\n",
      "File \u001b[0;32mpandas/_libs/hashtable_class_helper.pxi:5206\u001b[0m, in \u001b[0;36mpandas._libs.hashtable.PyObjectHashTable.get_item\u001b[0;34m()\u001b[0m\n",
      "\u001b[0;31mKeyError\u001b[0m: '2021-01-28'",
      "\nThe above exception was the direct cause of the following exception:\n",
      "\u001b[0;31mKeyError\u001b[0m                                  Traceback (most recent call last)",
      "Input \u001b[0;32mIn [58]\u001b[0m, in \u001b[0;36m<cell line: 6>\u001b[0;34m()\u001b[0m\n\u001b[1;32m      3\u001b[0m \u001b[38;5;28;01mfor\u001b[39;00m line \u001b[38;5;129;01min\u001b[39;00m data[\u001b[38;5;124m'\u001b[39m\u001b[38;5;124mGME\u001b[39m\u001b[38;5;124m'\u001b[39m,\u001b[38;5;124m'\u001b[39m\u001b[38;5;124mOpen\u001b[39m\u001b[38;5;124m'\u001b[39m]:\n\u001b[1;32m      4\u001b[0m     \u001b[38;5;28mprint\u001b[39m(line)\n\u001b[0;32m----> 6\u001b[0m \u001b[38;5;28mprint\u001b[39m(\u001b[43mdata\u001b[49m\u001b[43m[\u001b[49m\u001b[38;5;124;43m'\u001b[39;49m\u001b[38;5;124;43mGME\u001b[39;49m\u001b[38;5;124;43m'\u001b[39;49m\u001b[43m]\u001b[49m\u001b[43m[\u001b[49m\u001b[38;5;124;43m'\u001b[39;49m\u001b[38;5;124;43m2021-01-28\u001b[39;49m\u001b[38;5;124;43m'\u001b[39;49m\u001b[43m]\u001b[49m)\n",
      "File \u001b[0;32m/mnt/c/Users/anand/Documents/CS229/project/wsb-stock-prediction/env/lib/python3.8/site-packages/pandas/core/frame.py:3505\u001b[0m, in \u001b[0;36mDataFrame.__getitem__\u001b[0;34m(self, key)\u001b[0m\n\u001b[1;32m   3503\u001b[0m \u001b[38;5;28;01mif\u001b[39;00m \u001b[38;5;28mself\u001b[39m\u001b[38;5;241m.\u001b[39mcolumns\u001b[38;5;241m.\u001b[39mnlevels \u001b[38;5;241m>\u001b[39m \u001b[38;5;241m1\u001b[39m:\n\u001b[1;32m   3504\u001b[0m     \u001b[38;5;28;01mreturn\u001b[39;00m \u001b[38;5;28mself\u001b[39m\u001b[38;5;241m.\u001b[39m_getitem_multilevel(key)\n\u001b[0;32m-> 3505\u001b[0m indexer \u001b[38;5;241m=\u001b[39m \u001b[38;5;28;43mself\u001b[39;49m\u001b[38;5;241;43m.\u001b[39;49m\u001b[43mcolumns\u001b[49m\u001b[38;5;241;43m.\u001b[39;49m\u001b[43mget_loc\u001b[49m\u001b[43m(\u001b[49m\u001b[43mkey\u001b[49m\u001b[43m)\u001b[49m\n\u001b[1;32m   3506\u001b[0m \u001b[38;5;28;01mif\u001b[39;00m is_integer(indexer):\n\u001b[1;32m   3507\u001b[0m     indexer \u001b[38;5;241m=\u001b[39m [indexer]\n",
      "File \u001b[0;32m/mnt/c/Users/anand/Documents/CS229/project/wsb-stock-prediction/env/lib/python3.8/site-packages/pandas/core/indexes/base.py:3623\u001b[0m, in \u001b[0;36mIndex.get_loc\u001b[0;34m(self, key, method, tolerance)\u001b[0m\n\u001b[1;32m   3621\u001b[0m     \u001b[38;5;28;01mreturn\u001b[39;00m \u001b[38;5;28mself\u001b[39m\u001b[38;5;241m.\u001b[39m_engine\u001b[38;5;241m.\u001b[39mget_loc(casted_key)\n\u001b[1;32m   3622\u001b[0m \u001b[38;5;28;01mexcept\u001b[39;00m \u001b[38;5;167;01mKeyError\u001b[39;00m \u001b[38;5;28;01mas\u001b[39;00m err:\n\u001b[0;32m-> 3623\u001b[0m     \u001b[38;5;28;01mraise\u001b[39;00m \u001b[38;5;167;01mKeyError\u001b[39;00m(key) \u001b[38;5;28;01mfrom\u001b[39;00m \u001b[38;5;21;01merr\u001b[39;00m\n\u001b[1;32m   3624\u001b[0m \u001b[38;5;28;01mexcept\u001b[39;00m \u001b[38;5;167;01mTypeError\u001b[39;00m:\n\u001b[1;32m   3625\u001b[0m     \u001b[38;5;66;03m# If we have a listlike key, _check_indexing_error will raise\u001b[39;00m\n\u001b[1;32m   3626\u001b[0m     \u001b[38;5;66;03m#  InvalidIndexError. Otherwise we fall through and re-raise\u001b[39;00m\n\u001b[1;32m   3627\u001b[0m     \u001b[38;5;66;03m#  the TypeError.\u001b[39;00m\n\u001b[1;32m   3628\u001b[0m     \u001b[38;5;28mself\u001b[39m\u001b[38;5;241m.\u001b[39m_check_indexing_error(key)\n",
      "\u001b[0;31mKeyError\u001b[0m: '2021-01-28'"
     ]
    }
   ],
   "source": [
    "print(data['GME']['Open'] - data['GME']['Close'])\n",
    "print(data['GME'])\n",
    "for line in data['GME','Open']:\n",
    "    print(line)\n",
    "    \n",
    "#print(data['GME']['2021-01-28'])"
   ]
  },
  {
   "cell_type": "code",
   "execution_count": null,
   "id": "d0977c67-56db-478d-a84f-c059f30f1b70",
   "metadata": {},
   "outputs": [],
   "source": [
    "from dateutil import parser\n",
    "\n",
    "def append_ticker_data(data, ticker_set):\n",
    "    file = pd.read_csv('dataset/reddit_wsb.csv')\n",
    "    tickers_file = pd.read_csv('dataset/ticker_location.csv')\n",
    "    data_tickers = pd.concat([file, tickers_file['Ticker']], axis=1)\n",
    "    condensed_file = data_tickers.dropna(subset=['Ticker'])\n",
    "    sorted_file = condensed_file.sort_values(['timestamp'],ascending=True)\n",
    "    start_date = sorted_file.iloc[0]['timestamp'].split()[0]\n",
    "    \n",
    "    for i, row in tickers_file.iterrows():\n",
    "        if not pd.isnull(row['Ticker']):\n",
    "            row_ticker_list = row['Ticker'].replace('{','').replace('}','').replace('\\'', '').split(',')\n",
    "            date = row['timestamp'].split()[0]\n",
    "            for ticker in row_ticker_list:"
   ]
  },
  {
   "cell_type": "code",
   "execution_count": null,
   "id": "ff464a52-fb09-4028-8e86-0f56945a6ecf",
   "metadata": {},
   "outputs": [],
   "source": [
    "append_ticker_data(data, ticker_set)"
   ]
  }
 ],
 "metadata": {
  "kernelspec": {
   "display_name": "Python 3 (ipykernel)",
   "language": "python",
   "name": "python3"
  },
  "language_info": {
   "codemirror_mode": {
    "name": "ipython",
    "version": 3
   },
   "file_extension": ".py",
   "mimetype": "text/x-python",
   "name": "python",
   "nbconvert_exporter": "python",
   "pygments_lexer": "ipython3",
   "version": "3.8.10"
  }
 },
 "nbformat": 4,
 "nbformat_minor": 5
}
