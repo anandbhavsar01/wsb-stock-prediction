{
 "cells": [
  {
   "cell_type": "code",
   "execution_count": 3,
   "metadata": {
    "collapsed": false
   },
   "outputs": [],
   "source": [
    "import numpy as np\n",
    "import pandas as pd\n",
    "import scipy \n",
    "import regex \n",
    "import emoji \n",
    "import re"
   ]
  },
  {
   "cell_type": "code",
   "execution_count": null,
   "metadata": {
    "collapsed": true
   },
   "outputs": [],
   "source": []
  },
  {
   "cell_type": "code",
   "execution_count": 5,
   "metadata": {
    "collapsed": false
   },
   "outputs": [],
   "source": [
    "def get_words(post):\n",
    "    split_l = post.split(\" \")\n",
    "    tmp_list = ' '.join(split_l).split()\n",
    "    normd = [ww.lower() for ww in tmp_list]\n",
    "    return normd\n",
    "\n",
    "def make_lower(word):\n",
    "    return word.lower()\n",
    "\n",
    "def remove_links(post):\n",
    "    url_pattern = re.compile(r'https?//\\S+|www\\.\\S+')\n",
    "    return url_pattern.sub(r'', post)\n",
    "    \n",
    "def remove_bad_chars(post):\n",
    "    other_chars = ['*', '[', ']', '; ',\":\",\"“\",\"“\",\"”\",\"-\",\"=\",\"|\",\"^\"] \n",
    "    for char in other_chars:\n",
    "        post = post.replace(char, '')\n",
    "    return post\n",
    "\n"
   ]
  },
  {
   "cell_type": "code",
   "execution_count": 6,
   "metadata": {
    "collapsed": false
   },
   "outputs": [],
   "source": [
    "def train_test_split(df, frac=0.2):\n",
    "    \n",
    "    # get random sample \n",
    "    test = df.sample(frac=frac, axis=0)\n",
    "\n",
    "    # get everything but the test sample\n",
    "    train = df.drop(index=test.index)\n",
    "\n",
    "    return train, test\n",
    "\n",
    "def get_processed_data(data, as_list=False, split=0.1):\n",
    "    data.dropna(subset=['body'], inplace=True)\n",
    "    data=data.reset_index()\n",
    "     \n",
    "        \n",
    "    \n",
    "    # remove bad characters\n",
    "    data[\"body\"]=data[\"body\"].apply(remove_bad_chars)\n",
    "    data[\"title\"]=data[\"title\"].apply(remove_bad_chars)\n",
    "    \n",
    "    # remove all links present in a post title and body\n",
    "    data[\"body\"]=data[\"body\"].apply(remove_links)\n",
    "    data[\"title\"]=data[\"title\"].apply(remove_links)\n",
    "    \n",
    "    data[\"body\"]=data[\"body\"].apply(make_lower)\n",
    "    data[\"title\"]=data[\"title\"].apply(make_lower)\n",
    "    \n",
    "    # put posts into list of words\n",
    "    if as_list:\n",
    "        print(\"Converting string to list of strings\")\n",
    "        data[\"body\"]=data[\"body\"].apply(get_words)\n",
    "        data[\"title\"]=data[\"title\"].apply(get_words)\n",
    "    else:\n",
    "        data[\"body\"]=data[\"body\"].apply(make_lower)\n",
    "        data[\"title\"]=data[\"title\"].apply(make_lower)\n",
    "       \n",
    "    data_train, data_test = train_test_split(data,frac=split)\n",
    "    \n",
    "    return data_train, data_test\n",
    "\n",
    "def convert_to_dict(data,col):\n",
    "    my_dict = {}\n",
    "    for index, row in data.iterrows():\n",
    "        my_dict[index] = row[col]\n",
    "    return my_dict"
   ]
  },
  {
   "cell_type": "code",
   "execution_count": 13,
   "metadata": {
    "collapsed": false
   },
   "outputs": [],
   "source": [
    "f_in = \"dataset/text_and_label.csv\"\n",
    "data = pd.read_csv(f_in)\n",
    "processed_train, processed_test =get_processed_data(data)\n",
    "my_dict_train = convert_to_dict(processed_train,\"title\")\n",
    "my_dict_test = convert_to_dict(processed_test,\"title\")"
   ]
  },
  {
   "cell_type": "code",
   "execution_count": 12,
   "metadata": {
    "collapsed": false
   },
   "outputs": [
    {
     "name": "stdout",
     "output_type": "stream",
     "text": [
      "buy nok we are in power\n"
     ]
    }
   ],
   "source": [
    "print(my_dict_train[358])"
   ]
  },
  {
   "cell_type": "code",
   "execution_count": null,
   "metadata": {
    "collapsed": true
   },
   "outputs": [],
   "source": []
  }
 ],
 "metadata": {
  "kernelspec": {
   "display_name": "Python 3",
   "language": "python",
   "name": "python3"
  },
  "language_info": {
   "codemirror_mode": {
    "name": "ipython",
    "version": 3
   },
   "file_extension": ".py",
   "mimetype": "text/x-python",
   "name": "python",
   "nbconvert_exporter": "python",
   "pygments_lexer": "ipython3",
   "version": "3.7.2"
  }
 },
 "nbformat": 4,
 "nbformat_minor": 2
}
