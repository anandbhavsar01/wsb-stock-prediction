{
 "cells": [
  {
   "cell_type": "code",
   "execution_count": 16,
   "metadata": {
    "collapsed": false,
    "jupyter": {
     "outputs_hidden": false
    }
   },
   "outputs": [],
   "source": [
    "import numpy as np\n",
    "import pandas as pd\n",
    "import scipy \n",
    "import regex \n",
    "import emoji \n",
    "import re\n"
   ]
  },
  {
   "cell_type": "code",
   "execution_count": 19,
   "metadata": {
    "collapsed": true,
    "jupyter": {
     "outputs_hidden": true
    }
   },
   "outputs": [],
   "source": [
    "f_in = \"dataset/reddit_wsb.csv\"\n",
    "#from ipynb.fs.full.WordProcessing import get_words"
   ]
  },
  {
   "cell_type": "code",
   "execution_count": 17,
   "metadata": {
    "collapsed": false,
    "jupyter": {
     "outputs_hidden": false
    }
   },
   "outputs": [],
   "source": [
    "def get_words(post):\n",
    "    split_l = post.split(\" \")\n",
    "    tmp_list = ' '.join(split_l).split()\n",
    "    normd = [ww.lower() for ww in tmp_list]\n",
    "    return normd\n",
    "\n",
    "def remove_links(post):\n",
    "    url_pattern = re.compile(r'https?//\\S+|www\\.\\S+')\n",
    "    return url_pattern.sub(r'', post)\n",
    "    \n",
    "def remove_bad_chars(post):\n",
    "    other_chars = ['*', '[', ']', '; ',\":\",\"“\",\"“\",\"”\",\"-\",\"=\",\"|\",\"^\"] \n",
    "    for char in other_chars:\n",
    "        post = post.replace(char, '')\n",
    "    return post"
   ]
  },
  {
   "cell_type": "code",
   "execution_count": 18,
   "metadata": {
    "collapsed": false,
    "jupyter": {
     "outputs_hidden": false
    }
   },
   "outputs": [],
   "source": [
    "def get_processed_data(data):\n",
    "    data.dropna(subset=['body'], inplace=True)\n",
    "    data=data.reset_index()\n",
    "    \n",
    "    # remove bad characters\n",
    "    data[\"body\"]=data[\"body\"].apply(remove_bad_chars)\n",
    "    data[\"title\"]=data[\"title\"].apply(remove_bad_chars)\n",
    "    \n",
    "    # remove all links present in a post title and body\n",
    "    data[\"body\"]=data[\"body\"].apply(remove_links)\n",
    "    data[\"title\"]=data[\"title\"].apply(remove_links)\n",
    "    \n",
    "    # put posts into list of words\n",
    "    data[\"body\"]=data[\"body\"].apply(get_words)\n",
    "    data[\"title\"]=data[\"title\"].apply(get_words)\n",
    "    return data\n",
    "\n",
    "def convert_to_dict(data,col):\n",
    "    my_dict = {}\n",
    "    for index, row in data.iterrows():\n",
    "        my_dict[index] = row[col]\n",
    "    return my_dict\n",
    "\n",
    "\n"
   ]
  },
  {
   "cell_type": "code",
   "execution_count": 14,
   "metadata": {
    "tags": []
   },
   "outputs": [],
   "source": [
    "#data = pd.read_csv(f_in)\n",
    "#processed=get_processed_data(data)\n",
    "#my_dict = convert_to_dict(processed,\"title\")\n",
    "#print(my_dict[358])"
   ]
  },
  {
   "cell_type": "code",
   "execution_count": null,
   "metadata": {
    "tags": []
   },
   "outputs": [],
   "source": []
  },
  {
   "cell_type": "code",
   "execution_count": 53,
   "metadata": {
    "collapsed": false,
    "jupyter": {
     "outputs_hidden": false
    }
   },
   "outputs": [],
   "source": []
  },
  {
   "cell_type": "code",
   "execution_count": 77,
   "metadata": {
    "collapsed": false,
    "jupyter": {
     "outputs_hidden": false
    }
   },
   "outputs": [],
   "source": []
  },
  {
   "cell_type": "code",
   "execution_count": 25,
   "metadata": {
    "collapsed": false,
    "jupyter": {
     "outputs_hidden": false
    }
   },
   "outputs": [
    {
     "name": "stdout",
     "output_type": "stream",
     "text": [
      "(53187, 8)\n"
     ]
    }
   ],
   "source": [
    "data = pd.read_csv(f_in)"
   ]
  },
  {
   "cell_type": "code",
   "execution_count": 52,
   "metadata": {
    "collapsed": false,
    "jupyter": {
     "outputs_hidden": false
    }
   },
   "outputs": [],
   "source": [
    "processed=get_processed_data(data)"
   ]
  },
  {
   "cell_type": "code",
   "execution_count": 55,
   "metadata": {
    "collapsed": false,
    "jupyter": {
     "outputs_hidden": false
    }
   },
   "outputs": [],
   "source": [
    "my_dict = convert_to_dict(processed,\"title\")"
   ]
  },
  {
   "cell_type": "code",
   "execution_count": 58,
   "metadata": {
    "collapsed": false,
    "jupyter": {
     "outputs_hidden": false
    }
   },
   "outputs": [
    {
     "name": "stdout",
     "output_type": "stream",
     "text": [
      "['buy', 'nok', 'we', 'are', 'in', 'power']\n"
     ]
    }
   ],
   "source": [
    "#print(my_dict[358]) #[24398])"
   ]
  },
  {
   "cell_type": "code",
   "execution_count": null,
   "metadata": {
    "tags": []
   },
   "outputs": [],
   "source": []
  }
 ],
 "metadata": {
  "kernelspec": {
   "display_name": "Python 3 (ipykernel)",
   "language": "python",
   "name": "python3"
  },
  "language_info": {
   "codemirror_mode": {
    "name": "ipython",
    "version": 3
   },
   "file_extension": ".py",
   "mimetype": "text/x-python",
   "name": "python",
   "nbconvert_exporter": "python",
   "pygments_lexer": "ipython3",
   "version": "3.8.10"
  }
 },
 "nbformat": 4,
 "nbformat_minor": 4
}
